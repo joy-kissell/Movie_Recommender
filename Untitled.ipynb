{
 "cells": [
  {
   "cell_type": "code",
   "execution_count": 4,
   "id": "b5f93643-d6f4-4499-9210-82449089f2b7",
   "metadata": {},
   "outputs": [],
   "source": [
    "import pandas as pd\n",
    "import numpy as np\n",
    "import sklearn\n",
    "import seaborn\n",
    "import re\n",
    "\n",
    "movies = pd.read_csv('ml-32m/movies.csv')\n",
    "ratings = pd.read_csv('ml-32m/ratings.csv')\n",
    "tags = pd.read_csv('ml-32m/tags.csv')\n",
    "\n",
    "def get_year(title):\n",
    "    match = re.search(r'\\((\\d{4})\\)', title)\n",
    "    if match: \n",
    "        return int(match.group(1))\n",
    "    return None\n",
    "\n",
    "#adding a year column to the movies dataframe\n",
    "movies['year']= movies['title'].apply(get_year)"
   ]
  },
  {
   "cell_type": "code",
   "execution_count": 6,
   "id": "8b44d6b7-cb6b-4b0a-a594-8d83c5fa9c90",
   "metadata": {},
   "outputs": [],
   "source": [
    "movies['year'] = movies['year'].astype('Int64')"
   ]
  },
  {
   "cell_type": "code",
   "execution_count": 7,
   "id": "5acda921-f9eb-4acb-a8be-4b0f977e39cc",
   "metadata": {},
   "outputs": [
    {
     "data": {
      "text/html": [
       "<div>\n",
       "<style scoped>\n",
       "    .dataframe tbody tr th:only-of-type {\n",
       "        vertical-align: middle;\n",
       "    }\n",
       "\n",
       "    .dataframe tbody tr th {\n",
       "        vertical-align: top;\n",
       "    }\n",
       "\n",
       "    .dataframe thead th {\n",
       "        text-align: right;\n",
       "    }\n",
       "</style>\n",
       "<table border=\"1\" class=\"dataframe\">\n",
       "  <thead>\n",
       "    <tr style=\"text-align: right;\">\n",
       "      <th></th>\n",
       "      <th>movieId</th>\n",
       "      <th>title</th>\n",
       "      <th>genres</th>\n",
       "      <th>year</th>\n",
       "    </tr>\n",
       "  </thead>\n",
       "  <tbody>\n",
       "    <tr>\n",
       "      <th>0</th>\n",
       "      <td>1</td>\n",
       "      <td>Toy Story (1995)</td>\n",
       "      <td>Adventure|Animation|Children|Comedy|Fantasy</td>\n",
       "      <td>1995</td>\n",
       "    </tr>\n",
       "    <tr>\n",
       "      <th>1</th>\n",
       "      <td>2</td>\n",
       "      <td>Jumanji (1995)</td>\n",
       "      <td>Adventure|Children|Fantasy</td>\n",
       "      <td>1995</td>\n",
       "    </tr>\n",
       "    <tr>\n",
       "      <th>2</th>\n",
       "      <td>3</td>\n",
       "      <td>Grumpier Old Men (1995)</td>\n",
       "      <td>Comedy|Romance</td>\n",
       "      <td>1995</td>\n",
       "    </tr>\n",
       "    <tr>\n",
       "      <th>3</th>\n",
       "      <td>4</td>\n",
       "      <td>Waiting to Exhale (1995)</td>\n",
       "      <td>Comedy|Drama|Romance</td>\n",
       "      <td>1995</td>\n",
       "    </tr>\n",
       "    <tr>\n",
       "      <th>4</th>\n",
       "      <td>5</td>\n",
       "      <td>Father of the Bride Part II (1995)</td>\n",
       "      <td>Comedy</td>\n",
       "      <td>1995</td>\n",
       "    </tr>\n",
       "  </tbody>\n",
       "</table>\n",
       "</div>"
      ],
      "text/plain": [
       "   movieId                               title  \\\n",
       "0        1                    Toy Story (1995)   \n",
       "1        2                      Jumanji (1995)   \n",
       "2        3             Grumpier Old Men (1995)   \n",
       "3        4            Waiting to Exhale (1995)   \n",
       "4        5  Father of the Bride Part II (1995)   \n",
       "\n",
       "                                        genres  year  \n",
       "0  Adventure|Animation|Children|Comedy|Fantasy  1995  \n",
       "1                   Adventure|Children|Fantasy  1995  \n",
       "2                               Comedy|Romance  1995  \n",
       "3                         Comedy|Drama|Romance  1995  \n",
       "4                                       Comedy  1995  "
      ]
     },
     "execution_count": 7,
     "metadata": {},
     "output_type": "execute_result"
    }
   ],
   "source": [
    "movies.head()"
   ]
  },
  {
   "cell_type": "code",
   "execution_count": 8,
   "id": "3c58aae2-d55f-46d1-9f82-56a17b359592",
   "metadata": {},
   "outputs": [
    {
     "data": {
      "text/html": [
       "<div>\n",
       "<style scoped>\n",
       "    .dataframe tbody tr th:only-of-type {\n",
       "        vertical-align: middle;\n",
       "    }\n",
       "\n",
       "    .dataframe tbody tr th {\n",
       "        vertical-align: top;\n",
       "    }\n",
       "\n",
       "    .dataframe thead th {\n",
       "        text-align: right;\n",
       "    }\n",
       "</style>\n",
       "<table border=\"1\" class=\"dataframe\">\n",
       "  <thead>\n",
       "    <tr style=\"text-align: right;\">\n",
       "      <th></th>\n",
       "      <th>movieId</th>\n",
       "      <th>title</th>\n",
       "      <th>genres</th>\n",
       "      <th>year</th>\n",
       "    </tr>\n",
       "  </thead>\n",
       "  <tbody>\n",
       "    <tr>\n",
       "      <th>64069</th>\n",
       "      <td>209311</td>\n",
       "      <td>Waves (2020)</td>\n",
       "      <td>Drama|Romance</td>\n",
       "      <td>2020</td>\n",
       "    </tr>\n",
       "    <tr>\n",
       "      <th>64491</th>\n",
       "      <td>210455</td>\n",
       "      <td>Gretel &amp; Hansel (2020)</td>\n",
       "      <td>Fantasy|Horror|Thriller</td>\n",
       "      <td>2020</td>\n",
       "    </tr>\n",
       "    <tr>\n",
       "      <th>64497</th>\n",
       "      <td>210469</td>\n",
       "      <td>Like a Boss (2020)</td>\n",
       "      <td>Comedy</td>\n",
       "      <td>2020</td>\n",
       "    </tr>\n",
       "    <tr>\n",
       "      <th>64539</th>\n",
       "      <td>210569</td>\n",
       "      <td>Birds of Prey (And the Fantabulous Emancipatio...</td>\n",
       "      <td>Action|Adventure|Crime</td>\n",
       "      <td>2020</td>\n",
       "    </tr>\n",
       "    <tr>\n",
       "      <th>64540</th>\n",
       "      <td>210571</td>\n",
       "      <td>Fantasy Island (2020)</td>\n",
       "      <td>Fantasy|Horror|Sci-Fi</td>\n",
       "      <td>2020</td>\n",
       "    </tr>\n",
       "  </tbody>\n",
       "</table>\n",
       "</div>"
      ],
      "text/plain": [
       "       movieId                                              title  \\\n",
       "64069   209311                                       Waves (2020)   \n",
       "64491   210455                             Gretel & Hansel (2020)   \n",
       "64497   210469                                 Like a Boss (2020)   \n",
       "64539   210569  Birds of Prey (And the Fantabulous Emancipatio...   \n",
       "64540   210571                              Fantasy Island (2020)   \n",
       "\n",
       "                        genres  year  \n",
       "64069            Drama|Romance  2020  \n",
       "64491  Fantasy|Horror|Thriller  2020  \n",
       "64497                   Comedy  2020  \n",
       "64539   Action|Adventure|Crime  2020  \n",
       "64540    Fantasy|Horror|Sci-Fi  2020  "
      ]
     },
     "execution_count": 8,
     "metadata": {},
     "output_type": "execute_result"
    }
   ],
   "source": [
    "recent_movies = movies[movies['year'] >= 2020]\n",
    "recent_movies.head() "
   ]
  },
  {
   "cell_type": "code",
   "execution_count": 9,
   "id": "fdf6f1c6-f279-4efc-a5dd-265bcb6447d5",
   "metadata": {},
   "outputs": [
    {
     "name": "stdout",
     "output_type": "stream",
     "text": [
      "Movies dataset size: (87585, 4)\n",
      "Recent movies dataset size: (7986, 4)\n",
      "Ratings dataset size: (32000204, 4)\n",
      "Recent movie ratings dataset size: (273932, 4)\n",
      "Tags dataset size: (2000072, 4)\n",
      "Recent movie tags dataset size: (72910, 4)\n"
     ]
    }
   ],
   "source": [
    "recent_movies = movies[movies['year'] >= 2020]\n",
    "recent_movie_ratings = ratings[ratings['movieId'].isin(recent_movies['movieId'])]\n",
    "recent_movie_tags = tags[tags['movieId'].isin(recent_movies['movieId'])]\n",
    "print(\"Movies dataset size:\", movies.shape)\n",
    "print(\"Recent movies dataset size:\", recent_movies.shape)\n",
    "print(\"Ratings dataset size:\", ratings.shape)\n",
    "print(\"Recent movie ratings dataset size:\", recent_movie_ratings.shape)\n",
    "print(\"Tags dataset size:\", tags.shape)\n",
    "print(\"Recent movie tags dataset size:\", recent_movie_tags.shape)"
   ]
  },
  {
   "cell_type": "code",
   "execution_count": 10,
   "id": "b6bbe673-e68c-4d2b-aad1-a594fd2e9b48",
   "metadata": {},
   "outputs": [
    {
     "name": "stdout",
     "output_type": "stream",
     "text": [
      "movieId    0\n",
      "title      0\n",
      "genres     0\n",
      "year       0\n",
      "dtype: int64\n",
      "userId       0\n",
      "movieId      0\n",
      "rating       0\n",
      "timestamp    0\n",
      "dtype: int64\n"
     ]
    }
   ],
   "source": [
    "print(recent_movies.isnull().sum())\n",
    "print(recent_movie_ratings.isnull().sum())"
   ]
  },
  {
   "cell_type": "code",
   "execution_count": 12,
   "id": "ef9d4180-dede-4a1e-bb18-a3f7ac91cebf",
   "metadata": {},
   "outputs": [
    {
     "name": "stdout",
     "output_type": "stream",
     "text": [
      "Duplicate rows in recent_movies:\n",
      "Empty DataFrame\n",
      "Columns: [movieId, title, genres, year]\n",
      "Index: []\n"
     ]
    }
   ],
   "source": [
    "duplicates = recent_movies[recent_movies.duplicated()]\n",
    "print(\"Duplicate rows in recent_movies:\")\n",
    "print(duplicates)"
   ]
  },
  {
   "cell_type": "code",
   "execution_count": null,
   "id": "58fc05b7-d416-4b6d-be43-e6193a45b250",
   "metadata": {},
   "outputs": [],
   "source": []
  }
 ],
 "metadata": {
  "kernelspec": {
   "display_name": "Python 3 (ipykernel)",
   "language": "python",
   "name": "python3"
  },
  "language_info": {
   "codemirror_mode": {
    "name": "ipython",
    "version": 3
   },
   "file_extension": ".py",
   "mimetype": "text/x-python",
   "name": "python",
   "nbconvert_exporter": "python",
   "pygments_lexer": "ipython3",
   "version": "3.13.1"
  }
 },
 "nbformat": 4,
 "nbformat_minor": 5
}
