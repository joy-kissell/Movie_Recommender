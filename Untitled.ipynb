{
 "cells": [
  {
   "cell_type": "code",
   "execution_count": 10,
   "id": "02e7bb16-fec2-4920-85f2-fe502fb8b325",
   "metadata": {},
   "outputs": [
    {
     "data": {
      "text/plain": [
       "movieId  userId  rating  timestamp \n",
       "209311   2476    4.0     1665246428    1\n",
       "         3514    4.5     1677158561    1\n",
       "         4340    3.0     1644881521    1\n",
       "         4392    3.0     1654015956    1\n",
       "         4552    3.0     1644879183    1\n",
       "Name: count, dtype: int64"
      ]
     },
     "metadata": {},
     "output_type": "display_data"
    }
   ],
   "source": [
    "import pandas as pd\n",
    "import numpy as np\n",
    "import sklearn\n",
    "import seaborn as sns\n",
    "import re\n",
    "import matplotlib.pyplot as plt\n",
    "\n",
    "movies = pd.read_csv('movie_data/movies.csv')\n",
    "ratings = pd.read_csv('movie_data/ratings.csv')\n",
    "\n",
    "def get_year(title):\n",
    "    match = re.search(r'\\((\\d{4})\\)', title)\n",
    "    if match: \n",
    "        return int(match.group(1))\n",
    "    return None\n",
    "\n",
    "#adding a year column to the movies dataframe\n",
    "movies['year']= movies['title'].apply(get_year)\n",
    "\n",
    "#don't want any decimal ending years\n",
    "movies['year'] = movies['year'].astype('Int64')\n",
    "\n",
    "#creating subset with movies since 2020\n",
    "recent_movies = movies[movies['year'] >= 2020]\n",
    "recent_movie_ratings = ratings[ratings['movieId'].isin(recent_movies['movieId'])]\n",
    "\n",
    "#no null values found when doing print statements:\n",
    "    #print(recent_movies.isnull().sum())\n",
    "    #print(recent_movie_ratings.isnull().sum())\n",
    "\n",
    "#checking for duplicates- none found\n",
    "duplicates = recent_movies[recent_movies.duplicated(subset='movieId')]\n",
    "duplicate_ratings = recent_movie_ratings[recent_movie_ratings.duplicated(subset=['userId','movieId'])]\n",
    "\n",
    "#removing movies that have 'no genres listed' as their only genre\n",
    "recent_movies = recent_movies[recent_movies['genres'] != '(no genres listed)']\n",
    "recent_movie_ratings = recent_movie_ratings[recent_movie_ratings['movieId'].isin(recent_movies['movieId'])]\n",
    "\n",
    "#Genres by count (# of movies in each genre)\n",
    "genres = recent_movies['genres'].str.split('|').explode()\n",
    "genre_counts = genres.value_counts()\n"
   ]
  },
  {
   "cell_type": "code",
   "execution_count": 14,
   "id": "297e377d-a7fe-4b13-ac62-0a9300000470",
   "metadata": {},
   "outputs": [
    {
     "data": {
      "text/plain": [
       "movieId\n",
       "254726    5332\n",
       "225173    4486\n",
       "217465    4332\n",
       "270698    3989\n",
       "263007    3971\n",
       "Name: rating, dtype: int64"
      ]
     },
     "metadata": {},
     "output_type": "display_data"
    },
    {
     "data": {
      "text/plain": [
       "movieId\n",
       "254726                                 Dune (2021)\n",
       "225173                                 Soul (2020)\n",
       "217465                                Tenet (2020)\n",
       "270698    Everything Everywhere All at Once (2022)\n",
       "263007              Spider-Man: No Way Home (2021)\n",
       "Name: title, dtype: object"
      ]
     },
     "metadata": {},
     "output_type": "display_data"
    }
   ],
   "source": [
    "movie_ratings_count = recent_movie_ratings.groupby('movieId')['rating'].count().sort_values(ascending=False).head(5)\n",
    "\n",
    "ratings_titles = recent_movies.set_index('movieId').loc[movie_ratings_count.index,'title']\n",
    "display(movie_ratings_count)\n",
    "display(ratings_titles)"
   ]
  },
  {
   "cell_type": "code",
   "execution_count": null,
   "id": "9baa5d5e-af1a-4f64-b3c3-617ab9a743cb",
   "metadata": {},
   "outputs": [],
   "source": []
  }
 ],
 "metadata": {
  "kernelspec": {
   "display_name": "Python 3 (ipykernel)",
   "language": "python",
   "name": "python3"
  },
  "language_info": {
   "codemirror_mode": {
    "name": "ipython",
    "version": 3
   },
   "file_extension": ".py",
   "mimetype": "text/x-python",
   "name": "python",
   "nbconvert_exporter": "python",
   "pygments_lexer": "ipython3",
   "version": "3.13.1"
  }
 },
 "nbformat": 4,
 "nbformat_minor": 5
}
